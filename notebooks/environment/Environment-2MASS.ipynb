{
 "cells": [
  {
   "cell_type": "markdown",
   "metadata": {},
   "source": [
    "### Galaxy environment\n",
    "\n",
    "Some methods to test galaxy environment"
   ]
  },
  {
   "cell_type": "code",
   "execution_count": 130,
   "metadata": {},
   "outputs": [],
   "source": [
    "import matplotlib.pyplot as plt\n",
    "import matplotlib.colors as colors\n",
    "\n",
    "import numpy as np\n",
    "\n",
    "import pickle\n",
    "\n",
    "import astroquery.vizier as vizier\n",
    "import astroquery.ned  as ned\n",
    "\n",
    "import astropy.units as u\n",
    "import astropy.coordinates as coord\n",
    "\n",
    "%matplotlib inline\n",
    "\n",
    "## directory\n",
    "rootdir = \"/home/stephane/Science/Galaxies\"\n",
    "wdir    = \"%s/products\"%(rootdir)\n",
    "\n",
    "import sys, os\n",
    "sys.path.append(\"%s/master/notebooks\"%(rootdir))\n",
    "\n",
    "os.chdir(wdir)\n",
    "\n",
    "## Settings\n",
    "ROW_LIMIT = 5000\n",
    "vizier.Vizier.ROW_LIMIT = ROW_LIMIT"
   ]
  },
  {
   "cell_type": "code",
   "execution_count": 131,
   "metadata": {},
   "outputs": [],
   "source": [
    "def get_2mass(source, conesize = 0.5):\n",
    "    \"Get the 2MASS data from Vizier\"\n",
    "    \n",
    "    c = coord.SkyCoord(ra=source[0]*u.deg, dec=source[1]*u.deg)\n",
    "    cat = \"II/246\" ## 2MASS ps\n",
    "    cat = \"II/233\" ## Ext 2MASS\n",
    "    cat = \"II/312/ais\"\n",
    "    # cat = \"VIII/65\"\n",
    "    res = vizier.Vizier.query_region(c , radius=conesize*u.arcmin,catalog=cat)\n",
    "    # res = ned.Ned.query_region(c , radius=conesize*u.arcmin)\n",
    "    \n",
    "    try:\n",
    "        if len(res[0]) == ROW_LIMIT :\n",
    "            print(\"### Number limit of objects reached...\")\n",
    "    except:\n",
    "        print(\"## No source found ...\")\n",
    "        \n",
    "    \n",
    "    return(res)"
   ]
  },
  {
   "cell_type": "code",
   "execution_count": 132,
   "metadata": {},
   "outputs": [],
   "source": [
    "def plot_field(tm ,s ,sexag = False):\n",
    "    \"plot the sources in the field\"\n",
    "    \n",
    "    ral  = []\n",
    "    decl = []\n",
    "    if sexag:\n",
    "        for val1, val2  in zip(tm['RAJ2000'],tm['DEJ2000']) :\n",
    "            ra  = coord.Angle(val1, unit='hourangle')\n",
    "            dec = coord.Angle(val2, unit=u.deg)\n",
    "            ral.append(ra.degree)\n",
    "            decl.append(dec.degree)\n",
    "    else :\n",
    "        for val1, val2  in zip(tm['RAJ2000'],tm['DEJ2000']) :\n",
    "            ral.append(val1)\n",
    "            decl.append(val2)\n",
    "        \n",
    "    fig = plt.figure(figsize=(10, 10))\n",
    "    plt.plot(ral,decl, \"k*\")\n",
    "    plt.plot(s[0], s[1], \"r+\")\n",
    "    plt.grid(\"on\")\n",
    "    plt.show()"
   ]
  },
  {
   "cell_type": "code",
   "execution_count": 133,
   "metadata": {},
   "outputs": [
    {
     "name": "stdout",
     "output_type": "stream",
     "text": [
      "## Getting the sources  ...\n"
     ]
    },
    {
     "data": {
      "image/png": "[encoded data removed]",
      "text/plain": [
       "<Figure size 720x720 with 1 Axes>"
      ]
     },
     "metadata": {
      "needs_background": "light"
     },
     "output_type": "display_data"
    }
   ],
   "source": [
    "### Main\n",
    "\n",
    "## \n",
    "s = [145.891068, 0.05370]\n",
    "\n",
    "print(\"## Getting the sources  ...\")\n",
    "tm = get_2mass(s, conesize =10.0)\n",
    "\n",
    "if len(tm)> 0:\n",
    "    plot_field(tm[0], s , sexag = False)"
   ]
  }
 ],
 "metadata": {
  "kernelspec": {
   "display_name": "Python 3",
   "language": "python",
   "name": "python3"
  },
  "language_info": {
   "codemirror_mode": {
    "name": "ipython",
    "version": 2
   },
   "file_extension": ".py",
   "mimetype": "text/x-python",
   "name": "python",
   "nbconvert_exporter": "python",
   "pygments_lexer": "ipython2",
   "version": "2.7.15+"
  }
 },
 "nbformat": 4,
 "nbformat_minor": 2
}
