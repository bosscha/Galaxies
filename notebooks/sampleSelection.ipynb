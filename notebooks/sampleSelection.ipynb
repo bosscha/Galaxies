{
 "cells": [
  {
   "cell_type": "markdown",
   "metadata": {
    "deletable": true,
    "editable": true
   },
   "source": [
    "### Sample Selection for Galaxies"
   ]
  },
  {
   "cell_type": "code",
   "execution_count": 1,
   "metadata": {
    "collapsed": false,
    "deletable": true,
    "editable": true
   },
   "outputs": [],
   "source": [
    "from astroquery.ned import Ned\n",
    "import astropy.units as u\n",
    "from astropy import coordinates\n",
    "\n",
    "from astropy.table import Table\n",
    "\n",
    "import math\n",
    "\n",
    "### Global parameters############################################\n",
    "DDec = 360. / 3600.  ## step in Dec in deg\n",
    "DRa  = 360. / 3600   ## Step in Ra in deg (bias with projection)\n",
    "\n",
    "RAmin    = 22. * 360. / 24.\n",
    "RAmax  = 26. * 360. / 24.\n",
    "Decmin   = -50.0\n",
    "Decmax  =  -10.0\n",
    "\n",
    "sampleGal = []\n",
    "#################################################################"
   ]
  },
  {
   "cell_type": "code",
   "execution_count": 2,
   "metadata": {
    "collapsed": false
   },
   "outputs": [],
   "source": [
    "def isInSample(line):\n",
    "    \"Check if already in sample\"\n",
    "    \n",
    "    isFound = False\n",
    "    \n",
    "    for gal in sampleGal:\n",
    "        if line[1] == gal['Name'] :\n",
    "            isFound = True\n",
    "            \n",
    "    return(isFound)"
   ]
  },
  {
   "cell_type": "code",
   "execution_count": 3,
   "metadata": {
    "collapsed": false,
    "deletable": true,
    "editable": true
   },
   "outputs": [],
   "source": [
    "def query_NED(co, vmin,vmax):\n",
    "    \"Do a conesearch on NED an return name, redshift, type\"\n",
    "    \n",
    "    size = 0.1 * u.deg\n",
    "    try:\n",
    "        res = Ned.query_region(co, radius=  size , equinox='J2000.0')\n",
    "    except:\n",
    "        res = []\n",
    "    \n",
    "    galFound = 0\n",
    "    \n",
    "    for line in res:\n",
    "        name = line[1]\n",
    "        coord = [line[2],line[3]]\n",
    "        vel  = float(line['Velocity'])\n",
    "        type = line['Type']\n",
    "        \n",
    "        \n",
    "        if vel > vmin and vel < vmax and not isInSample(line):\n",
    "            newGal = {}\n",
    "            newGal['Name'] = name\n",
    "            \n",
    "            print name\n",
    "            print vel\n",
    "            print coord\n",
    "            print type\n",
    "            print(\"---\")\n",
    "            \n",
    "            sampleGal.append(newGal)\n",
    "            \n",
    "            galFound += 1\n",
    "            \n",
    "        \n",
    "     \n",
    "    return(galFound)\n",
    "    \n"
   ]
  },
  {
   "cell_type": "code",
   "execution_count": null,
   "metadata": {
    "collapsed": false,
    "deletable": true,
    "editable": true
   },
   "outputs": [],
   "source": [
    "def scanSkyRegion(vmin,vmax):\n",
    "    \"\"\"\n",
    "    Scan a sky area to search for Galaxy candidate\n",
    "    vmin, vmax: velocity range in km/s\n",
    "    \"\"\"\n",
    "    \n",
    "    ndec = int((Decmax-Decmin)/DDec)\n",
    "    nra = int((RAmax-RAmin)/DRa)\n",
    "    \n",
    "    galTotal = 0\n",
    "    print(\"Pointing; %d %d\"%(nra, ndec))\n",
    "    \n",
    "    for i in range(nra):\n",
    "        for j in range(ndec):\n",
    "            dec = Decmin + DDec * j\n",
    "            ra  = (RAmin + DRa * i) % 360.0\n",
    "            co = coordinates.SkyCoord(ra, dec, unit=(u.deg, u.deg), frame='fk4')\n",
    "            ng = query_NED(co, vmin, vmax)\n",
    "            \n",
    "            \n",
    "            galTotal += ng\n",
    "            \n",
    "            \n",
    "    print(\"## Gal. found: %d\"%(galTotal))\n",
    "            \n",
    "    "
   ]
  },
  {
   "cell_type": "code",
   "execution_count": null,
   "metadata": {
    "collapsed": false,
    "deletable": true,
    "editable": true
   },
   "outputs": [
    {
     "name": "stdout",
     "output_type": "stream",
     "text": [
      "## Running the scan on the area ...\n",
      "Pointing; 600 400\n"
     ]
    },
    {
     "name": "stderr",
     "output_type": "stream",
     "text": [
      "/usr/local/lib/python2.7/dist-packages/ipykernel/__main__.py:15: UserWarning: Warning: converting a masked element to nan.\n"
     ]
    },
    {
     "name": "stdout",
     "output_type": "stream",
     "text": [
      "ESO 288-IG 042\n",
      "1394.0\n",
      "[331.96195, -43.278590000000001]\n",
      "G\n",
      "---\n",
      "2dFGRS S176Z065\n",
      "866.0\n",
      "[333.88454000000002, -28.061810000000001]\n",
      "*\n",
      "---\n",
      "6dF J2218489-461303\n",
      "1208.0\n",
      "[334.70389, -46.217529999999996]\n",
      "G\n",
      "---\n",
      "IC 5201\n",
      "915.0\n",
      "[335.23933, -46.03586]\n",
      "G\n",
      "---\n",
      "ESO 289- G 020\n",
      "911.0\n",
      "[335.29879, -45.67653]\n",
      "G\n",
      "---\n",
      "[TSK2008] 0352\n",
      "905.0\n",
      "[335.35016999999999, -46.172190000000001]\n",
      "GGroup\n",
      "---\n",
      "ESO 238- G 005\n",
      "706.0\n",
      "[335.62527, -48.404899999999998]\n",
      "G\n",
      "---\n",
      "GALEXASC J222324.96-281234.7\n",
      "1027.0\n",
      "[335.85404999999997, -28.210090000000001]\n",
      "G\n",
      "---\n"
     ]
    }
   ],
   "source": [
    "### Run the scanning on NED\n",
    "\n",
    "print(\"## Running the scan on the area ...\")\n",
    "\n",
    "scanSkyRegion(500., 1500.)\n",
    "\n",
    "print(\"## Scanning done.\")"
   ]
  }
 ],
 "metadata": {
  "kernelspec": {
   "display_name": "Python 2",
   "language": "python",
   "name": "python2"
  },
  "language_info": {
   "codemirror_mode": {
    "name": "ipython",
    "version": 2
   },
   "file_extension": ".py",
   "mimetype": "text/x-python",
   "name": "python",
   "nbconvert_exporter": "python",
   "pygments_lexer": "ipython2",
   "version": "2.7.14"
  }
 },
 "nbformat": 4,
 "nbformat_minor": 2
}
