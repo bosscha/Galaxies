{
 "cells": [
  {
   "cell_type": "markdown",
   "metadata": {
    "deletable": true,
    "editable": true
   },
   "source": [
    "### Sample Selection for Galaxies"
   ]
  },
  {
   "cell_type": "code",
   "execution_count": null,
   "metadata": {
    "collapsed": false,
    "deletable": true,
    "editable": true
   },
   "outputs": [],
   "source": [
    "from astroquery.ned import Ned\n",
    "import astropy.units as u\n",
    "from astropy import coordinates\n",
    "\n",
    "from astropy.table import Table\n",
    "\n",
    "import math\n",
    "\n",
    "### Global parameters############################################\n",
    "DDec = 360. / 3600.  ## step in Dec in deg\n",
    "DRa  = 360. / 3600   ## Step in Ra in deg (bias with projection)\n",
    "\n",
    "RAmin    = 22. * 360. / 24.\n",
    "RAmax  = 26. * 360. / 24.\n",
    "Decmin   = -50.0\n",
    "Decmax  =  -10.0\n",
    "\n",
    "sampleGal = []\n",
    "#################################################################"
   ]
  },
  {
   "cell_type": "code",
   "execution_count": null,
   "metadata": {
    "collapsed": false
   },
   "outputs": [],
   "source": [
    "def isInSample(line):\n",
    "    \"Check if already in sample\"\n",
    "    \n",
    "    isFound = False\n",
    "    \n",
    "    for gal in sampleGal:\n",
    "        if line[1] == gal['Name'] :\n",
    "            isFound = True\n",
    "            \n",
    "    return(isFound)"
   ]
  },
  {
   "cell_type": "code",
   "execution_count": null,
   "metadata": {
    "collapsed": false,
    "deletable": true,
    "editable": true
   },
   "outputs": [],
   "source": [
    "def query_NED(co, vmin,vmax):\n",
    "    \"Do a conesearch on NED an return name, redshift, type\"\n",
    "    \n",
    "    size = 0.1 * u.deg\n",
    "    try:\n",
    "        res = Ned.query_region(co, radius=  size , equinox='J2000.0')\n",
    "    except:\n",
    "        res = []\n",
    "    \n",
    "    galFound = 0\n",
    "    \n",
    "    for line in res:\n",
    "        name = line[1]\n",
    "        coord = [line[2],line[3]]\n",
    "        vel  = float(line['Velocity'])\n",
    "        type = line['Type']\n",
    "        \n",
    "        \n",
    "        if vel > vmin and vel < vmax and not isInSample(line):\n",
    "            newGal = {}\n",
    "            newGal['Name'] = name\n",
    "            \n",
    "            print name\n",
    "            print vel\n",
    "            print coord\n",
    "            print type\n",
    "            print(\"---\")\n",
    "            \n",
    "            sampleGal.append(newGal)\n",
    "            \n",
    "            galFound += 1\n",
    "            \n",
    "        \n",
    "     \n",
    "    return(galFound)\n",
    "    \n"
   ]
  },
  {
   "cell_type": "code",
   "execution_count": null,
   "metadata": {
    "collapsed": false,
    "deletable": true,
    "editable": true
   },
   "outputs": [],
   "source": [
    "def scanSkyRegion(vmin,vmax):\n",
    "    \"\"\"\n",
    "    Scan a sky area to search for Galaxy candidate\n",
    "    vmin, vmax: velocity range in km/s\n",
    "    \"\"\"\n",
    "    \n",
    "    ndec = int((Decmax-Decmin)/DDec)\n",
    "    nra = int((RAmax-RAmin)/DRa)\n",
    "    \n",
    "    galTotal = 0\n",
    "    print(\"Pointing; %d %d\"%(nra, ndec))\n",
    "    \n",
    "    for i in range(nra):\n",
    "        for j in range(ndec):\n",
    "            dec = Decmin + DDec * j\n",
    "            ra  = (RAmin + DRa * i) % 360.0\n",
    "            co = coordinates.SkyCoord(ra, dec, unit=(u.deg, u.deg), frame='fk4')\n",
    "            ng = query_NED(co, vmin, vmax)\n",
    "            \n",
    "            \n",
    "            galTotal += ng\n",
    "            \n",
    "            \n",
    "    print(\"## Gal. found: %d\"%(galTotal))\n",
    "            \n",
    "    "
   ]
  },
  {
   "cell_type": "code",
   "execution_count": null,
   "metadata": {
    "collapsed": false,
    "deletable": true,
    "editable": true
   },
   "outputs": [],
   "source": [
    "### Run the scanning on NED\n",
    "\n",
    "print(\"## Running the scan on the area ...\")\n",
    "\n",
    "scanSkyRegion(500., 1500.)\n",
    "\n",
    "print(\"## Scanning done.\")"
   ]
  }
 ],
 "metadata": {
  "kernelspec": {
   "display_name": "Python 2",
   "language": "python",
   "name": "python2"
  },
  "language_info": {
   "codemirror_mode": {
    "name": "ipython",
    "version": 2
   },
   "file_extension": ".py",
   "mimetype": "text/x-python",
   "name": "python",
   "nbconvert_exporter": "python",
   "pygments_lexer": "ipython2",
   "version": "2.7.14"
  }
 },
 "nbformat": 4,
 "nbformat_minor": 2
}
