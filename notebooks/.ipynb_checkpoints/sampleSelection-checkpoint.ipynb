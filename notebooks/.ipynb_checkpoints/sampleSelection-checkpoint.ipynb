{
 "cells": [
  {
   "cell_type": "markdown",
   "metadata": {
    "deletable": true,
    "editable": true
   },
   "source": [
    "### Sample Selection for Galaxies"
   ]
  },
  {
   "cell_type": "code",
   "execution_count": null,
   "metadata": {
    "collapsed": false,
    "deletable": true,
    "editable": true
   },
   "outputs": [],
   "source": [
    "from astroquery.ned import Ned\n",
    "import astropy.units as u\n",
    "from astropy import coordinates\n",
    "\n",
    "from astropy.table import Table\n",
    "import pickle\n",
    "\n",
    "import math\n",
    "\n",
    "### Global parameters############################################\n",
    "DDec = 360. / 3600.  ## step for Dec in deg\n",
    "DRa  = 360. / 3600   ## Step for Ra in deg (bias with projection)\n",
    "\n",
    "RAmin    = 22. * 360. / 24.       ## in Deg.\n",
    "RAmax    = 23. * 360. / 24.      ## in Deg.\n",
    "Decmin   = -50.0                  ## in Deg.\n",
    "Decmax   = -10.0                  ## in Deg.\n",
    "\n",
    "Velmin   = 500.\n",
    "Velmax   = 1500.\n",
    "\n",
    "sampleGal = []\n",
    "#################################################################"
   ]
  },
  {
   "cell_type": "code",
   "execution_count": null,
   "metadata": {
    "collapsed": false
   },
   "outputs": [],
   "source": [
    "def isInSample(line):\n",
    "    \"Check if already in sample\"\n",
    "    \n",
    "    isFound = False\n",
    "    \n",
    "    for gal in sampleGal:\n",
    "        if line[1] == gal['Name'] :\n",
    "            isFound = True\n",
    "            \n",
    "    return(isFound)"
   ]
  },
  {
   "cell_type": "code",
   "execution_count": null,
   "metadata": {
    "collapsed": false,
    "deletable": true,
    "editable": true
   },
   "outputs": [],
   "source": [
    "def query_NED(co, vmin,vmax):\n",
    "    \"Do a conesearch on NED an return name, redshift, type\"\n",
    "    \n",
    "    size = 0.1 * u.deg\n",
    "    try:\n",
    "        res = Ned.query_region(co, radius=  size , equinox='J2000.0')\n",
    "    except:\n",
    "        res = []\n",
    "    \n",
    "    galFound = 0\n",
    "    \n",
    "    for line in res:\n",
    "        name = line[1]\n",
    "        coord = [line[2],line[3]]\n",
    "        vel  = float(line['Velocity'])\n",
    "        type = line['Type']\n",
    "        \n",
    "        \n",
    "        if vel > vmin and vel < vmax and not isInSample(line):\n",
    "            newGal = {}\n",
    "            newGal['Name'] = name\n",
    "            newGal['Vel']  = vel\n",
    "            newGal['Coord'] = coord\n",
    "            newGal['Type'] =  type\n",
    "            \n",
    "\n",
    "            try:\n",
    "                res = Ned.get_table(name, table='photometry')\n",
    "            except:\n",
    "                res = []\n",
    "                \n",
    "            newGal['Photometry'] =  res\n",
    "            \n",
    "            print (\"Name    : %s\"%(name))\n",
    "            print (\"Velocity: %6.1f\"%(vel))\n",
    "            print(\"--------\")\n",
    "            \n",
    "            sampleGal.append(newGal)\n",
    "            \n",
    "            galFound += 1\n",
    "            \n",
    "        \n",
    "     \n",
    "    return(galFound)\n",
    "    \n"
   ]
  },
  {
   "cell_type": "code",
   "execution_count": null,
   "metadata": {
    "collapsed": false,
    "deletable": true,
    "editable": true
   },
   "outputs": [],
   "source": [
    "def scanSkyRegion(vmin,vmax):\n",
    "    \"\"\"\n",
    "    Scan a sky area to search for Galaxy candidate\n",
    "    vmin, vmax: velocity range in km/s\n",
    "    \"\"\"\n",
    "    \n",
    "    ndec = int((Decmax-Decmin)/DDec)\n",
    "    nra = int((RAmax-RAmin)/DRa)\n",
    "    ntotal = float(nra*ndec)\n",
    "    \n",
    "    galTotal = 0\n",
    "    print(\"Pointing; %d %d\"%(nra, ndec))\n",
    "    \n",
    "    ncurrent = 0.\n",
    "    \n",
    "    for i in range(nra):\n",
    "        for j in range(ndec):\n",
    "            dec = Decmin + DDec * j\n",
    "            ra  = (RAmin + DRa * i) % 360.0\n",
    "            co = coordinates.SkyCoord(ra, dec, unit=(u.deg, u.deg), frame='fk4')\n",
    "            ng = query_NED(co, vmin, vmax)\n",
    "            \n",
    "            \n",
    "            galTotal += ng\n",
    "            ncurrent += 1.0\n",
    "            \n",
    "            progress = 100. * ncurrent / ntotal\n",
    "            \n",
    "            print(\"%f\"%(progress % 10.))\n",
    "            \n",
    "    print(\"## Gal. found: %d\"%(galTotal))\n",
    "            \n",
    "    "
   ]
  },
  {
   "cell_type": "code",
   "execution_count": null,
   "metadata": {
    "collapsed": false,
    "deletable": true,
    "editable": true
   },
   "outputs": [],
   "source": [
    "### Run the scanning on NED\n",
    "\n",
    "print(\"## Running the scan on the area ...\")\n",
    "\n",
    "scanSkyRegion(Velmin,Velmax)\n",
    "\n",
    "fileout = 'sampleGalTest.pkl'\n",
    "f = open(fileout,'w')\n",
    "pickle.dump(sampleGal,f)\n",
    "f.close()\n",
    "\n",
    "print(\"## Scanning done.\")"
   ]
  }
 ],
 "metadata": {
  "kernelspec": {
   "display_name": "Python 2",
   "language": "python",
   "name": "python2"
  },
  "language_info": {
   "codemirror_mode": {
    "name": "ipython",
    "version": 2
   },
   "file_extension": ".py",
   "mimetype": "text/x-python",
   "name": "python",
   "nbconvert_exporter": "python",
   "pygments_lexer": "ipython2",
   "version": "2.7.14"
  }
 },
 "nbformat": 4,
 "nbformat_minor": 2
}
