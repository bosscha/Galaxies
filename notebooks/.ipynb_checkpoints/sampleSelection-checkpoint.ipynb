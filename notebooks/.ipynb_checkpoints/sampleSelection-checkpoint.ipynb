{
 "cells": [
  {
   "cell_type": "markdown",
   "metadata": {},
   "source": [
    "### Sample Selection for Galaxies"
   ]
  },
  {
   "cell_type": "code",
   "execution_count": 111,
   "metadata": {
    "collapsed": true
   },
   "outputs": [],
   "source": [
    "from astroquery.ned import Ned\n",
    "import astropy.units as u\n",
    "from astropy import coordinates\n",
    "\n",
    "from astropy.table import Table"
   ]
  },
  {
   "cell_type": "code",
   "execution_count": 112,
   "metadata": {
    "collapsed": true
   },
   "outputs": [],
   "source": [
    "####---------------------------------------------------------"
   ]
  },
  {
   "cell_type": "code",
   "execution_count": 113,
   "metadata": {
    "collapsed": false
   },
   "outputs": [],
   "source": [
    "def query_NED(co, vmin,vmax):\n",
    "    \"Do a conesearch on NED an return name, redshift, type\"\n",
    "    \n",
    "    res = Ned.query_region(co, radius=  0.1 * u.deg, equinox='J2000.0')\n",
    "    \n",
    "    for line in res:\n",
    "        print line[1]\n",
    "        print line['Velocity']\n",
    "        print line['Type']\n",
    "        \n",
    "        \n",
    "    \n"
   ]
  },
  {
   "cell_type": "code",
   "execution_count": null,
   "metadata": {
    "collapsed": true
   },
   "outputs": [],
   "source": [
    "def scanSkyRegion(ramin, ramax, decmin, decmax):\n",
    "    "
   ]
  },
  {
   "cell_type": "code",
   "execution_count": 114,
   "metadata": {
    "collapsed": true
   },
   "outputs": [],
   "source": [
    "####----------------------------------------------------------"
   ]
  },
  {
   "cell_type": "code",
   "execution_count": 115,
   "metadata": {
    "collapsed": false
   },
   "outputs": [
    {
     "name": "stdout",
     "output_type": "stream",
     "text": [
      "2MASX J03482527+3838176\n",
      "16236.0\n",
      "G\n",
      "2MASX J03484488+3831307\n",
      "--\n",
      "G\n"
     ]
    }
   ],
   "source": [
    "co = coordinates.SkyCoord(ra=56.38, dec=38.43, unit=(u.deg, u.deg), frame='fk4')\n",
    "result_table = Ned.query_region(co, radius=0.1 * u.deg, equinox='B1950.0')\n",
    "\n",
    "\n",
    "\n",
    "\n",
    "\n"
   ]
  }
 ],
 "metadata": {
  "kernelspec": {
   "display_name": "Python 2",
   "language": "python",
   "name": "python2"
  },
  "language_info": {
   "codemirror_mode": {
    "name": "ipython",
    "version": 2
   },
   "file_extension": ".py",
   "mimetype": "text/x-python",
   "name": "python",
   "nbconvert_exporter": "python",
   "pygments_lexer": "ipython2",
   "version": "2.7.14"
  }
 },
 "nbformat": 4,
 "nbformat_minor": 2
}
